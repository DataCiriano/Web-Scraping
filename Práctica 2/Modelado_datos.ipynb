{
 "cells": [
  {
   "cell_type": "markdown",
   "id": "22aac0ba-7a75-49f6-9495-78cf22bbae54",
   "metadata": {},
   "source": [
    "# 1. Descripción del Dataset"
   ]
  },
  {
   "cell_type": "markdown",
   "id": "aeb87cb4-ab7b-46c3-ad69-e137ba665246",
   "metadata": {},
   "source": [
    "### ¿Por qué es importante y qué pregunta/problema pretende responder?\n",
    "\n",
    "El dataset recoge información sobre diferentes ayudas y subvenciones otorgadas en el Reino de España por diferentes organismos públicos para el año 2024. En este ejercicio vamos a estudiar cómo ha sido la concesión de estos fondos públicos y qué variables son las más importantes. Por último, trataremos de modelar los datos para descubrir patrones y poder predecir la concesión de ayudas futuras..\n",
    "\n",
    "El dataset originalentregado en la práctiCa 1,  consta de 378.958 registros únicos y 18 campos que muestran diferente información referente a cada ayuda o subvención entregad en el año 2024 hasta octubre.\n",
    "\n",
    "Utilizaremos otro dataset complementario con la misma estructura para añadir los datos de los últimos meses del año que no se encuentran en el dataset original.\n",
    "\n",
    "#### Descripción campos:\n",
    "\n",
    "&nbsp;&nbsp;&nbsp;&nbsp;**Convocante:** Entidad o administración pública que ha convocado la ayuda o subvención.  \n",
    "&nbsp;&nbsp;&nbsp;&nbsp;**Convocatoria:** Nombre o título específico de la convocatoria bajo la cual se ha otorgado la ayuda.  \n",
    "&nbsp;&nbsp;&nbsp;&nbsp;**Código BDNS:** Identificador único asignado por la Base de Datos Nacional de Subvenciones (BDNS) a cada ayuda o subvención.  \n",
    "&nbsp;&nbsp;&nbsp;&nbsp;**Reglamento:** Normativa o disposición legal que regula la concesión de la ayuda.  \n",
    "&nbsp;&nbsp;&nbsp;&nbsp;**Objetivo de la ayuda:** Propósitos o metas que la ayuda pretende alcanzar.  \n",
    "&nbsp;&nbsp;&nbsp;&nbsp;**Instrumento de la ayuda:** Modalidad o tipo de apoyo proporcionado, como subvenciones directas, préstamos, garantías, etc.  \n",
    "&nbsp;&nbsp;&nbsp;&nbsp;**Tipo de empresa:** Clasificación de la empresa beneficiaria según su tamaño o características, como microempresa, pyme o gran empresa.  \n",
    "&nbsp;&nbsp;&nbsp;&nbsp;**Fecha de concesión:** Fecha en la que se aprobó la concesión de la ayuda.  \n",
    "&nbsp;&nbsp;&nbsp;&nbsp;**Código de concesión:** Número o identificador específico asignado a la concesión individual de la ayuda.  \n",
    "&nbsp;&nbsp;&nbsp;&nbsp;**Fecha de registro:** Fecha en la que la concesión fue registrada en la BDNS.  \n",
    "&nbsp;&nbsp;&nbsp;&nbsp;**Beneficiario:** Nombre de la persona física o jurídica que recibe la ayuda.  \n",
    "&nbsp;&nbsp;&nbsp;&nbsp;**Importe nominal:** Cantidad total de dinero asignada en la concesión de la ayuda.  \n",
    "&nbsp;&nbsp;&nbsp;&nbsp;**Ayuda equivalente:** Valor de la ayuda expresado en términos de subvención equivalente, especialmente relevante en ayudas que no son subvenciones directas.  \n",
    "&nbsp;&nbsp;&nbsp;&nbsp;**Región concesión:** Ubicación geográfica donde se aplica o tiene efecto la ayuda concedida.  \n",
    "&nbsp;&nbsp;&nbsp;&nbsp;**Sector de actividad NACE:** Clasificación del sector económico del beneficiario según la Nomenclatura Estadística de Actividades Económicas de la Comunidad Europea (NACE).  \n",
    "&nbsp;&nbsp;&nbsp;&nbsp;**Referencia de la medida:** Código o identificador de la medida específica bajo la cual se enmarca la ayuda.  \n",
    "&nbsp;&nbsp;&nbsp;&nbsp;**Entidad art. 16 GBER:** Entidad relacionada según el artículo 16 del Reglamento General de Exención por Categorías (GBER) de la Unión Europea.  \n",
    "&nbsp;&nbsp;&nbsp;&nbsp;**Intermediario art. 21 GBER:** Intermediario financiero o entidad que participa en la concesión de la ayuda según el artículo 21 del GBER.  \n"
   ]
  },
  {
   "cell_type": "markdown",
   "id": "fbf6a10a-c952-4fb7-b76c-12c016ade58f",
   "metadata": {},
   "source": [
    "# 2.  Integración y selección"
   ]
  },
  {
   "cell_type": "markdown",
   "id": "0d7ea33e-c8dc-4ac5-a1ef-bf1400cb7ae1",
   "metadata": {},
   "source": [
    "El dataset original entregado en la práctica 1 contiene datos desde enero hasta octubre del año 2024, por lo que para esta nueva entrega se han extraído por el mimos método de Web Scraping los datos de estos últimos meses del año 2024 Y SE realiza la unión de los dos dataset en uno solo."
   ]
  },
  {
   "cell_type": "code",
   "execution_count": 1,
   "id": "a7537ce0-9eb6-4c5e-b59a-2e9a17eb7050",
   "metadata": {},
   "outputs": [],
   "source": [
    "# importar las librerías necesarias\n",
    "import pandas as pd"
   ]
  },
  {
   "cell_type": "code",
   "execution_count": 2,
   "id": "cd347e10-f3f1-4352-b134-a1006cfe4241",
   "metadata": {},
   "outputs": [
    {
     "name": "stderr",
     "output_type": "stream",
     "text": [
      "C:\\Users\\mciri\\AppData\\Local\\Temp\\ipykernel_13428\\1571307858.py:2: DtypeWarning: Columns (4,16,17) have mixed types. Specify dtype option on import or set low_memory=False.\n",
      "  datos_practica1 = pd.read_csv('adjudicaciones_2024_dataset.csv')\n"
     ]
    }
   ],
   "source": [
    "# carga del dataset original \n",
    "datos_practica1 = pd.read_csv('adjudicaciones_2024_dataset.csv')"
   ]
  },
  {
   "cell_type": "code",
   "execution_count": 3,
   "id": "c67fd1d3-c3e6-4577-ac9a-ceef6bcc0612",
   "metadata": {},
   "outputs": [
    {
     "data": {
      "text/plain": [
       "(378958, 18)"
      ]
     },
     "execution_count": 3,
     "metadata": {},
     "output_type": "execute_result"
    }
   ],
   "source": [
    "# comprobar que el dataset se cargó correctamente\n",
    "datos_practica1.shape"
   ]
  },
  {
   "cell_type": "code",
   "execution_count": 4,
   "id": "acf4b9bf-165b-474b-9701-f30881f5e69a",
   "metadata": {},
   "outputs": [],
   "source": [
    "# carga de los datos de los últimos meses de 2024\n",
    "nuevos_datos = pd.read_csv('ultimas_adjudicaciones_dataset.csv')"
   ]
  },
  {
   "cell_type": "code",
   "execution_count": 5,
   "id": "25d2c87c-c8ef-49ac-bb97-bdb279459aa4",
   "metadata": {},
   "outputs": [
    {
     "data": {
      "text/plain": [
       "(30000, 18)"
      ]
     },
     "execution_count": 5,
     "metadata": {},
     "output_type": "execute_result"
    }
   ],
   "source": [
    "# comprobar que el dataset se cargó correctamente\n",
    "nuevos_datos.shape"
   ]
  },
  {
   "cell_type": "code",
   "execution_count": 6,
   "id": "a037a287-0713-4b30-9476-5854e9a4fc0c",
   "metadata": {},
   "outputs": [],
   "source": [
    "# dar formato de fecha al campo 'Fecha de concesión'\n",
    "nuevos_datos['Fecha de concesión'] = pd.to_datetime(nuevos_datos['Fecha de concesión'], format='%d/%m/%Y')"
   ]
  },
  {
   "cell_type": "code",
   "execution_count": 7,
   "id": "c2914f82-30fa-4c32-84b3-de7c1785b203",
   "metadata": {},
   "outputs": [],
   "source": [
    "# filtrar los datos de los meses Octubre, Noviembe y Diciembre\n",
    "nuevos_datos = nuevos_datos[nuevos_datos['Fecha de concesión'].dt.month >= 10]"
   ]
  },
  {
   "cell_type": "code",
   "execution_count": 8,
   "id": "aabe2119-5586-4381-95b8-b202b037d440",
   "metadata": {},
   "outputs": [
    {
     "data": {
      "text/plain": [
       "(30000, 18)"
      ]
     },
     "execution_count": 8,
     "metadata": {},
     "output_type": "execute_result"
    }
   ],
   "source": [
    "nuevos_datos.shape"
   ]
  },
  {
   "cell_type": "code",
   "execution_count": 9,
   "id": "a2b57219-ae02-40c8-88a9-4fb81cc8bf7b",
   "metadata": {},
   "outputs": [],
   "source": [
    "# unir los dos conjuntos de datos en uno solo y eliminar los posibles duplicados\n",
    "data = pd.concat([datos_practica1, nuevos_datos], ignore_index=True)"
   ]
  },
  {
   "cell_type": "code",
   "execution_count": 10,
   "id": "c7891bbc-9fba-4f98-9d96-33c116b13753",
   "metadata": {},
   "outputs": [],
   "source": [
    "# eliminar los posibles duplicados\n",
    "data = data.drop_duplicates()"
   ]
  },
  {
   "cell_type": "markdown",
   "id": "5491e5b4-8a5b-42eb-8674-6a3f491de191",
   "metadata": {},
   "source": [
    "# 3. Limpieza de los datos"
   ]
  },
  {
   "cell_type": "markdown",
   "id": "dfedfff3-bb01-4baa-a5fd-d79d05c983c4",
   "metadata": {},
   "source": [
    "## 3.1 Análisis exploratorio"
   ]
  },
  {
   "cell_type": "code",
   "execution_count": 11,
   "id": "67b5eb0d-40c9-4765-95d5-7c74e88d1ec1",
   "metadata": {},
   "outputs": [
    {
     "data": {
      "text/plain": [
       "(408958, 18)"
      ]
     },
     "execution_count": 11,
     "metadata": {},
     "output_type": "execute_result"
    }
   ],
   "source": [
    "# visualizar la estructura del dataset\n",
    "data.shape"
   ]
  },
  {
   "cell_type": "code",
   "execution_count": 12,
   "id": "aa444fc0-fc49-4956-8a47-558f0f214a2a",
   "metadata": {},
   "outputs": [
    {
     "data": {
      "text/plain": [
       "0"
      ]
     },
     "execution_count": 12,
     "metadata": {},
     "output_type": "execute_result"
    }
   ],
   "source": [
    "# comprobación de que no hay registros duplicados\n",
    "duplicados = data.duplicated().sum()\n",
    "duplicados"
   ]
  },
  {
   "cell_type": "code",
   "execution_count": 13,
   "id": "d64518b5-d972-4177-9e68-8fbcd35a7098",
   "metadata": {},
   "outputs": [
    {
     "name": "stdout",
     "output_type": "stream",
     "text": [
      "<class 'pandas.core.frame.DataFrame'>\n",
      "RangeIndex: 408958 entries, 0 to 408957\n",
      "Data columns (total 18 columns):\n",
      " #   Column                      Non-Null Count   Dtype \n",
      "---  ------                      --------------   ----- \n",
      " 0   Convocante                  408958 non-null  object\n",
      " 1   Convocatoria                408958 non-null  object\n",
      " 2   Código BDNS                 408958 non-null  int64 \n",
      " 3   Reglamento                  408958 non-null  object\n",
      " 4   Objetivos de la ayuda       40645 non-null   object\n",
      " 5   Instrumentos de ayuda       408958 non-null  object\n",
      " 6   Tipo de Empresa             408623 non-null  object\n",
      " 7   Fecha de concesión          408958 non-null  object\n",
      " 8   Código de concesión         408958 non-null  object\n",
      " 9   Fecha de registro           408958 non-null  object\n",
      " 10  Beneficiario                408958 non-null  object\n",
      " 11  Importe nominal             408958 non-null  object\n",
      " 12  Ayuda equivalente           408958 non-null  object\n",
      " 13  Región concesión            408958 non-null  object\n",
      " 14  Sector de actividad NACE    406272 non-null  object\n",
      " 15  Referencia de la medida     408958 non-null  object\n",
      " 16  Entidad art. 16 GBER        10496 non-null   object\n",
      " 17  Intermediario art. 21 GBER  9575 non-null    object\n",
      "dtypes: int64(1), object(17)\n",
      "memory usage: 56.2+ MB\n"
     ]
    }
   ],
   "source": [
    "# información general del dataset\n",
    "data.info()"
   ]
  },
  {
   "cell_type": "markdown",
   "id": "8bc92263-91e8-48a8-8cbf-b54141edda9d",
   "metadata": {},
   "source": [
    "Vemos como hay varios campos con valores faltantes que deberemos limpiar."
   ]
  },
  {
   "cell_type": "code",
   "execution_count": 14,
   "id": "4147256c-b0f1-4b35-bb13-c35f1ced1a90",
   "metadata": {},
   "outputs": [
    {
     "data": {
      "text/html": [
       "<div>\n",
       "<style scoped>\n",
       "    .dataframe tbody tr th:only-of-type {\n",
       "        vertical-align: middle;\n",
       "    }\n",
       "\n",
       "    .dataframe tbody tr th {\n",
       "        vertical-align: top;\n",
       "    }\n",
       "\n",
       "    .dataframe thead th {\n",
       "        text-align: right;\n",
       "    }\n",
       "</style>\n",
       "<table border=\"1\" class=\"dataframe\">\n",
       "  <thead>\n",
       "    <tr style=\"text-align: right;\">\n",
       "      <th></th>\n",
       "      <th>Convocante</th>\n",
       "      <th>Convocatoria</th>\n",
       "      <th>Código BDNS</th>\n",
       "      <th>Reglamento</th>\n",
       "      <th>Objetivos de la ayuda</th>\n",
       "      <th>Instrumentos de ayuda</th>\n",
       "      <th>Tipo de Empresa</th>\n",
       "      <th>Fecha de concesión</th>\n",
       "      <th>Código de concesión</th>\n",
       "      <th>Fecha de registro</th>\n",
       "      <th>Beneficiario</th>\n",
       "      <th>Importe nominal</th>\n",
       "      <th>Ayuda equivalente</th>\n",
       "      <th>Región concesión</th>\n",
       "      <th>Sector de actividad NACE</th>\n",
       "      <th>Referencia de la medida</th>\n",
       "      <th>Entidad art. 16 GBER</th>\n",
       "      <th>Intermediario art. 21 GBER</th>\n",
       "    </tr>\n",
       "  </thead>\n",
       "  <tbody>\n",
       "    <tr>\n",
       "      <th>0</th>\n",
       "      <td>CASTILLA-LA MANCHA VICECONSEJERÍA DE MEDIO AMB...</td>\n",
       "      <td>Resolución de 4 de agosto de 2022, de la Direc...</td>\n",
       "      <td>643127</td>\n",
       "      <td>SIN REGLAMENTO - NOTIFICACIÓN PREVIA</td>\n",
       "      <td>NaN</td>\n",
       "      <td>SUBVENCIÓN y ENTREGA DINERARIA SIN CONTRAPREST...</td>\n",
       "      <td>PERSONAS JURÍDICAS QUE NO DESARROLLAN ACTIVIDA...</td>\n",
       "      <td>26/05/2024</td>\n",
       "      <td>SB106987200</td>\n",
       "      <td>28/05/2024</td>\n",
       "      <td>P1932400C - AYTO. TIERZO</td>\n",
       "      <td>5.665,79 €</td>\n",
       "      <td>5.665,79 €</td>\n",
       "      <td>ES424 - Guadalajara</td>\n",
       "      <td>NaN</td>\n",
       "      <td>SA.43021</td>\n",
       "      <td>NaN</td>\n",
       "      <td>NaN</td>\n",
       "    </tr>\n",
       "    <tr>\n",
       "      <th>1</th>\n",
       "      <td>CASTILLA-LA MANCHA VICECONSEJERÍA DE MEDIO AMB...</td>\n",
       "      <td>Resolución de 4 de agosto de 2022, de la Direc...</td>\n",
       "      <td>643127</td>\n",
       "      <td>SIN REGLAMENTO - NOTIFICACIÓN PREVIA</td>\n",
       "      <td>NaN</td>\n",
       "      <td>SUBVENCIÓN y ENTREGA DINERARIA SIN CONTRAPREST...</td>\n",
       "      <td>PERSONAS JURÍDICAS QUE NO DESARROLLAN ACTIVIDA...</td>\n",
       "      <td>26/05/2024</td>\n",
       "      <td>SB106987199</td>\n",
       "      <td>28/05/2024</td>\n",
       "      <td>P1932100I - AYUNTAMIENTO DE TENDILLA</td>\n",
       "      <td>6.179,84 €</td>\n",
       "      <td>6.179,84 €</td>\n",
       "      <td>ES424 - Guadalajara</td>\n",
       "      <td>NaN</td>\n",
       "      <td>SA.43021</td>\n",
       "      <td>NaN</td>\n",
       "      <td>NaN</td>\n",
       "    </tr>\n",
       "    <tr>\n",
       "      <th>2</th>\n",
       "      <td>CASTILLA-LA MANCHA VICECONSEJERÍA DE MEDIO AMB...</td>\n",
       "      <td>Resolución de 4 de agosto de 2022, de la Direc...</td>\n",
       "      <td>643127</td>\n",
       "      <td>SIN REGLAMENTO - NOTIFICACIÓN PREVIA</td>\n",
       "      <td>NaN</td>\n",
       "      <td>SUBVENCIÓN y ENTREGA DINERARIA SIN CONTRAPREST...</td>\n",
       "      <td>PERSONAS JURÍDICAS QUE NO DESARROLLAN ACTIVIDA...</td>\n",
       "      <td>26/05/2024</td>\n",
       "      <td>SB106987198</td>\n",
       "      <td>28/05/2024</td>\n",
       "      <td>P1932000A - AYTO. TARTANEDO</td>\n",
       "      <td>5.383,85 €</td>\n",
       "      <td>5.383,85 €</td>\n",
       "      <td>ES424 - Guadalajara</td>\n",
       "      <td>NaN</td>\n",
       "      <td>SA.43021</td>\n",
       "      <td>NaN</td>\n",
       "      <td>NaN</td>\n",
       "    </tr>\n",
       "    <tr>\n",
       "      <th>3</th>\n",
       "      <td>CASTILLA-LA MANCHA VICECONSEJERÍA DE MEDIO AMB...</td>\n",
       "      <td>Resolución de 4 de agosto de 2022, de la Direc...</td>\n",
       "      <td>643127</td>\n",
       "      <td>SIN REGLAMENTO - NOTIFICACIÓN PREVIA</td>\n",
       "      <td>NaN</td>\n",
       "      <td>SUBVENCIÓN y ENTREGA DINERARIA SIN CONTRAPREST...</td>\n",
       "      <td>PERSONAS JURÍDICAS QUE NO DESARROLLAN ACTIVIDA...</td>\n",
       "      <td>26/05/2024</td>\n",
       "      <td>SB106987197</td>\n",
       "      <td>28/05/2024</td>\n",
       "      <td>P1931000B - AYTO. SIGUENZA</td>\n",
       "      <td>2.483,26 €</td>\n",
       "      <td>2.483,26 €</td>\n",
       "      <td>ES424 - Guadalajara</td>\n",
       "      <td>NaN</td>\n",
       "      <td>SA.43021</td>\n",
       "      <td>NaN</td>\n",
       "      <td>NaN</td>\n",
       "    </tr>\n",
       "    <tr>\n",
       "      <th>4</th>\n",
       "      <td>CASTILLA-LA MANCHA VICECONSEJERÍA DE MEDIO AMB...</td>\n",
       "      <td>Resolución de 4 de agosto de 2022, de la Direc...</td>\n",
       "      <td>643127</td>\n",
       "      <td>SIN REGLAMENTO - NOTIFICACIÓN PREVIA</td>\n",
       "      <td>NaN</td>\n",
       "      <td>SUBVENCIÓN y ENTREGA DINERARIA SIN CONTRAPREST...</td>\n",
       "      <td>PERSONAS JURÍDICAS QUE NO DESARROLLAN ACTIVIDA...</td>\n",
       "      <td>26/05/2024</td>\n",
       "      <td>SB106987196</td>\n",
       "      <td>28/05/2024</td>\n",
       "      <td>P1928100E - AYTO. RENERA</td>\n",
       "      <td>6.742,01 €</td>\n",
       "      <td>6.742,01 €</td>\n",
       "      <td>ES424 - Guadalajara</td>\n",
       "      <td>NaN</td>\n",
       "      <td>SA.43021</td>\n",
       "      <td>NaN</td>\n",
       "      <td>NaN</td>\n",
       "    </tr>\n",
       "  </tbody>\n",
       "</table>\n",
       "</div>"
      ],
      "text/plain": [
       "                                          Convocante  \\\n",
       "0  CASTILLA-LA MANCHA VICECONSEJERÍA DE MEDIO AMB...   \n",
       "1  CASTILLA-LA MANCHA VICECONSEJERÍA DE MEDIO AMB...   \n",
       "2  CASTILLA-LA MANCHA VICECONSEJERÍA DE MEDIO AMB...   \n",
       "3  CASTILLA-LA MANCHA VICECONSEJERÍA DE MEDIO AMB...   \n",
       "4  CASTILLA-LA MANCHA VICECONSEJERÍA DE MEDIO AMB...   \n",
       "\n",
       "                                        Convocatoria  Código BDNS  \\\n",
       "0  Resolución de 4 de agosto de 2022, de la Direc...       643127   \n",
       "1  Resolución de 4 de agosto de 2022, de la Direc...       643127   \n",
       "2  Resolución de 4 de agosto de 2022, de la Direc...       643127   \n",
       "3  Resolución de 4 de agosto de 2022, de la Direc...       643127   \n",
       "4  Resolución de 4 de agosto de 2022, de la Direc...       643127   \n",
       "\n",
       "                             Reglamento Objetivos de la ayuda  \\\n",
       "0  SIN REGLAMENTO - NOTIFICACIÓN PREVIA                   NaN   \n",
       "1  SIN REGLAMENTO - NOTIFICACIÓN PREVIA                   NaN   \n",
       "2  SIN REGLAMENTO - NOTIFICACIÓN PREVIA                   NaN   \n",
       "3  SIN REGLAMENTO - NOTIFICACIÓN PREVIA                   NaN   \n",
       "4  SIN REGLAMENTO - NOTIFICACIÓN PREVIA                   NaN   \n",
       "\n",
       "                               Instrumentos de ayuda  \\\n",
       "0  SUBVENCIÓN y ENTREGA DINERARIA SIN CONTRAPREST...   \n",
       "1  SUBVENCIÓN y ENTREGA DINERARIA SIN CONTRAPREST...   \n",
       "2  SUBVENCIÓN y ENTREGA DINERARIA SIN CONTRAPREST...   \n",
       "3  SUBVENCIÓN y ENTREGA DINERARIA SIN CONTRAPREST...   \n",
       "4  SUBVENCIÓN y ENTREGA DINERARIA SIN CONTRAPREST...   \n",
       "\n",
       "                                     Tipo de Empresa Fecha de concesión  \\\n",
       "0  PERSONAS JURÍDICAS QUE NO DESARROLLAN ACTIVIDA...         26/05/2024   \n",
       "1  PERSONAS JURÍDICAS QUE NO DESARROLLAN ACTIVIDA...         26/05/2024   \n",
       "2  PERSONAS JURÍDICAS QUE NO DESARROLLAN ACTIVIDA...         26/05/2024   \n",
       "3  PERSONAS JURÍDICAS QUE NO DESARROLLAN ACTIVIDA...         26/05/2024   \n",
       "4  PERSONAS JURÍDICAS QUE NO DESARROLLAN ACTIVIDA...         26/05/2024   \n",
       "\n",
       "  Código de concesión Fecha de registro                          Beneficiario  \\\n",
       "0         SB106987200        28/05/2024              P1932400C - AYTO. TIERZO   \n",
       "1         SB106987199        28/05/2024  P1932100I - AYUNTAMIENTO DE TENDILLA   \n",
       "2         SB106987198        28/05/2024           P1932000A - AYTO. TARTANEDO   \n",
       "3         SB106987197        28/05/2024            P1931000B - AYTO. SIGUENZA   \n",
       "4         SB106987196        28/05/2024              P1928100E - AYTO. RENERA   \n",
       "\n",
       "  Importe nominal Ayuda equivalente     Región concesión  \\\n",
       "0      5.665,79 €        5.665,79 €  ES424 - Guadalajara   \n",
       "1      6.179,84 €        6.179,84 €  ES424 - Guadalajara   \n",
       "2      5.383,85 €        5.383,85 €  ES424 - Guadalajara   \n",
       "3      2.483,26 €        2.483,26 €  ES424 - Guadalajara   \n",
       "4      6.742,01 €        6.742,01 €  ES424 - Guadalajara   \n",
       "\n",
       "  Sector de actividad NACE Referencia de la medida Entidad art. 16 GBER  \\\n",
       "0                      NaN                SA.43021                  NaN   \n",
       "1                      NaN                SA.43021                  NaN   \n",
       "2                      NaN                SA.43021                  NaN   \n",
       "3                      NaN                SA.43021                  NaN   \n",
       "4                      NaN                SA.43021                  NaN   \n",
       "\n",
       "  Intermediario art. 21 GBER  \n",
       "0                        NaN  \n",
       "1                        NaN  \n",
       "2                        NaN  \n",
       "3                        NaN  \n",
       "4                        NaN  "
      ]
     },
     "execution_count": 14,
     "metadata": {},
     "output_type": "execute_result"
    }
   ],
   "source": [
    "# previsualizar los primeros registros del dataset\n",
    "data.head()"
   ]
  },
  {
   "cell_type": "code",
   "execution_count": 15,
   "id": "3b81fd8e-1310-417e-992a-b4bab23eef5e",
   "metadata": {},
   "outputs": [],
   "source": [
    "# eliminar varias columnas que no interesan\n",
    "data = data.drop(columns=['Objetivos de la ayuda', 'Referencia de la medida', 'Entidad art. 16 GBER', 'Intermediario art. 21 GBER'])"
   ]
  },
  {
   "cell_type": "markdown",
   "id": "3f117f20-3523-42e0-a4ae-dfe3a3894553",
   "metadata": {},
   "source": [
    "Se eliminan las columnas 'Objetivos de la ayuda', 'Referencia de la medida', 'Entidad art. 16 GBER' e 'Intermediario art. 21 GBER' ya que tienen demasiados valores nulos y los que tenemos no aportan información relevante para nuestro análisis."
   ]
  },
  {
   "cell_type": "code",
   "execution_count": 16,
   "id": "1202cb93-342a-4203-88b1-ad9fdbf5a530",
   "metadata": {},
   "outputs": [
    {
     "name": "stdout",
     "output_type": "stream",
     "text": [
      "<class 'pandas.core.frame.DataFrame'>\n",
      "RangeIndex: 408958 entries, 0 to 408957\n",
      "Data columns (total 14 columns):\n",
      " #   Column                    Non-Null Count   Dtype \n",
      "---  ------                    --------------   ----- \n",
      " 0   Convocante                408958 non-null  object\n",
      " 1   Convocatoria              408958 non-null  object\n",
      " 2   Código BDNS               408958 non-null  int64 \n",
      " 3   Reglamento                408958 non-null  object\n",
      " 4   Instrumentos de ayuda     408958 non-null  object\n",
      " 5   Tipo de Empresa           408623 non-null  object\n",
      " 6   Fecha de concesión        408958 non-null  object\n",
      " 7   Código de concesión       408958 non-null  object\n",
      " 8   Fecha de registro         408958 non-null  object\n",
      " 9   Beneficiario              408958 non-null  object\n",
      " 10  Importe nominal           408958 non-null  object\n",
      " 11  Ayuda equivalente         408958 non-null  object\n",
      " 12  Región concesión          408958 non-null  object\n",
      " 13  Sector de actividad NACE  406272 non-null  object\n",
      "dtypes: int64(1), object(13)\n",
      "memory usage: 43.7+ MB\n"
     ]
    }
   ],
   "source": [
    "# comprobar que la columnas se eliminaron correctamente\n",
    "data.info()"
   ]
  },
  {
   "cell_type": "code",
   "execution_count": 17,
   "id": "19235275-da0e-466b-9206-94de6d5ba016",
   "metadata": {},
   "outputs": [],
   "source": [
    "# convertir la columna 'Fecha de concesión' a un formato de fecha\n",
    "data['Fecha de concesión'] = pd.to_datetime(data['Fecha de concesión'], format='%d/%m/%Y')"
   ]
  },
  {
   "cell_type": "code",
   "execution_count": 19,
   "id": "a9d0a4a0-2112-471c-b901-7a205e645ce0",
   "metadata": {},
   "outputs": [],
   "source": [
    "# filtrar los registros del año 2024\n",
    "data = data[data['Fecha de concesión'].dt.year == 2024]"
   ]
  },
  {
   "cell_type": "markdown",
   "id": "6e8db426-6f99-486a-a319-733753486b63",
   "metadata": {},
   "source": [
    "Se realiza el filtrado de los registros que no pertenecen a 2024 respecto a la fecha de concesión de la ayuda o subvención ya que durante el proceso de extracción mediante webscraping se obtuvieron registros de finales del año 2023."
   ]
  },
  {
   "cell_type": "code",
   "execution_count": 18,
   "id": "07be5ce5-ac3f-44c2-8674-be3f800da807",
   "metadata": {},
   "outputs": [
    {
     "name": "stdout",
     "output_type": "stream",
     "text": [
      "<class 'pandas.core.frame.DataFrame'>\n",
      "RangeIndex: 408958 entries, 0 to 408957\n",
      "Data columns (total 14 columns):\n",
      " #   Column                    Non-Null Count   Dtype         \n",
      "---  ------                    --------------   -----         \n",
      " 0   Convocante                408958 non-null  object        \n",
      " 1   Convocatoria              408958 non-null  object        \n",
      " 2   Código BDNS               408958 non-null  int64         \n",
      " 3   Reglamento                408958 non-null  object        \n",
      " 4   Instrumentos de ayuda     408958 non-null  object        \n",
      " 5   Tipo de Empresa           408623 non-null  object        \n",
      " 6   Fecha de concesión        408958 non-null  datetime64[ns]\n",
      " 7   Código de concesión       408958 non-null  object        \n",
      " 8   Fecha de registro         408958 non-null  object        \n",
      " 9   Beneficiario              408958 non-null  object        \n",
      " 10  Importe nominal           408958 non-null  object        \n",
      " 11  Ayuda equivalente         408958 non-null  object        \n",
      " 12  Región concesión          408958 non-null  object        \n",
      " 13  Sector de actividad NACE  406272 non-null  object        \n",
      "dtypes: datetime64[ns](1), int64(1), object(12)\n",
      "memory usage: 43.7+ MB\n"
     ]
    }
   ],
   "source": [
    "# comprobar si se siguen teniendo valores faltantes despues del filtrado\n",
    "data.info()"
   ]
  },
  {
   "cell_type": "code",
   "execution_count": 19,
   "id": "1ac72b16-eb58-4413-b3bf-c3438175327a",
   "metadata": {},
   "outputs": [],
   "source": [
    "# manejo de valores faltantes con la creación de la etiqueta 'Desconocido'\n",
    "data['Tipo de Empresa'] = data['Tipo de Empresa'].fillna('Desconocido')\n",
    "data['Sector de actividad NACE'] = data['Sector de actividad NACE'].fillna('Desconocido')"
   ]
  },
  {
   "cell_type": "markdown",
   "id": "0779511d-2267-4dfd-8cc3-581ba4e2821c",
   "metadata": {},
   "source": [
    "Se crea la etiqueta 'Desconocido' para los valores faltantes de los campos 'Tipo de Empresa' y 'Sector de actividad NACE' ya que es complicado imputar valores faltantes con sentido y no se desean eliminar estos registros.\n",
    "En total se tienen 227 registros con valores faltantes en el campo 'Tipo de Empresa' y 1944 valores en 'Sector de actividad NACE'."
   ]
  },
  {
   "cell_type": "code",
   "execution_count": 20,
   "id": "d8e418c1-c77b-4351-9cd2-3481e5e9afe9",
   "metadata": {},
   "outputs": [
    {
     "name": "stdout",
     "output_type": "stream",
     "text": [
      "<class 'pandas.core.frame.DataFrame'>\n",
      "RangeIndex: 408958 entries, 0 to 408957\n",
      "Data columns (total 14 columns):\n",
      " #   Column                    Non-Null Count   Dtype         \n",
      "---  ------                    --------------   -----         \n",
      " 0   Convocante                408958 non-null  object        \n",
      " 1   Convocatoria              408958 non-null  object        \n",
      " 2   Código BDNS               408958 non-null  int64         \n",
      " 3   Reglamento                408958 non-null  object        \n",
      " 4   Instrumentos de ayuda     408958 non-null  object        \n",
      " 5   Tipo de Empresa           408958 non-null  object        \n",
      " 6   Fecha de concesión        408958 non-null  datetime64[ns]\n",
      " 7   Código de concesión       408958 non-null  object        \n",
      " 8   Fecha de registro         408958 non-null  object        \n",
      " 9   Beneficiario              408958 non-null  object        \n",
      " 10  Importe nominal           408958 non-null  object        \n",
      " 11  Ayuda equivalente         408958 non-null  object        \n",
      " 12  Región concesión          408958 non-null  object        \n",
      " 13  Sector de actividad NACE  408958 non-null  object        \n",
      "dtypes: datetime64[ns](1), int64(1), object(12)\n",
      "memory usage: 43.7+ MB\n"
     ]
    }
   ],
   "source": [
    "# comprobar que ya no existen valores faltantes en el dataset\n",
    "data.info()"
   ]
  },
  {
   "cell_type": "markdown",
   "id": "9e6ab247-840c-4885-a7c9-73076f80d3e6",
   "metadata": {},
   "source": [
    "# Acalaraciones Pedro: (eliminar)\n",
    "\n",
    "- He extraido datos de los últimos meses de este año para que tengamos datos del año completo, de ahí la carga de los dos archivos (original + nuevo) y la unión en uno solo.\n",
    "\n",
    "- He eleiminado 3 campos ('Objetivos de la ayuda', 'Referencia de la medida', 'Entidad art. 16 GBER' e 'Intermediario art. 21 GBER') ya que tenían muchos valores nulos y no aportaban información relevante.\n",
    "\n",
    "- El dataset original trae datos de finales del año 2023 por lo que esos registros han sido eliminados\n",
    "\n",
    "- He creado la etiqueta 'Desconocido' para algunos valores faltantes en los campos 'Tipo de Empresa' y 'Sector de actividad NACE'. Podría haber eliminado estos registros ya que no son muchos, si da problemas en el modelado eliminalos sin problema.\n",
    "\n",
    "- Supongo que habrá que hacer una reducción de la dimensionalidad porque tenemos 14 campos y unos 400k registros.\n"
   ]
  },
  {
   "cell_type": "code",
   "execution_count": null,
   "id": "b6ca3f6b-73d3-4c76-9d05-9d7ba6798573",
   "metadata": {},
   "outputs": [],
   "source": []
  }
 ],
 "metadata": {
  "kernelspec": {
   "display_name": "Python 3 (ipykernel)",
   "language": "python",
   "name": "python3"
  },
  "language_info": {
   "codemirror_mode": {
    "name": "ipython",
    "version": 3
   },
   "file_extension": ".py",
   "mimetype": "text/x-python",
   "name": "python",
   "nbconvert_exporter": "python",
   "pygments_lexer": "ipython3",
   "version": "3.12.4"
  }
 },
 "nbformat": 4,
 "nbformat_minor": 5
}
